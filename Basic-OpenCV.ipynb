{
 "cells": [
  {
   "cell_type": "markdown",
   "id": "57824c88-4f70-4d24-a58f-ba5032e4bf78",
   "metadata": {},
   "source": [
    "Install OpenCV"
   ]
  },
  {
   "cell_type": "code",
   "execution_count": null,
   "id": "9ddce71a-f62c-4d2a-abb5-b26418af0d6f",
   "metadata": {},
   "outputs": [],
   "source": [
    "#pip install opencv-python \n",
    "#pip install opencv-python-headless matplotlib"
   ]
  },
  {
   "cell_type": "code",
   "execution_count": null,
   "id": "918b22e1-a7c6-4e8d-9aa8-43d6ea128aa9",
   "metadata": {},
   "outputs": [],
   "source": [
    "import cv2\n",
    "print(cv2.__version__)"
   ]
  },
  {
   "cell_type": "markdown",
   "id": "df7d6dde-552e-4976-b168-cb369801a01e",
   "metadata": {},
   "source": [
    "https://opencv.org/"
   ]
  },
  {
   "cell_type": "markdown",
   "id": "35433ccf-8850-4999-82d4-c69193ae5ef6",
   "metadata": {},
   "source": [
    "Image Processing Basics"
   ]
  },
  {
   "cell_type": "markdown",
   "id": "8c8ef32d-612a-4467-9cb7-c809783390a1",
   "metadata": {},
   "source": [
    "Loading and Displaying Images"
   ]
  },
  {
   "cell_type": "code",
   "execution_count": null,
   "id": "2acfe633-fca0-405f-bdf8-412996b599a2",
   "metadata": {},
   "outputs": [],
   "source": [
    "import cv2\n",
    "import numpy as np\n",
    "import matplotlib.pyplot as plt\n",
    "%matplotlib inline"
   ]
  },
  {
   "cell_type": "code",
   "execution_count": null,
   "id": "57ea0816-eb1c-4911-9b60-dc3f325bacb2",
   "metadata": {},
   "outputs": [],
   "source": [
    "img = cv2.imread('dog.jpg')"
   ]
  },
  {
   "cell_type": "code",
   "execution_count": null,
   "id": "f8434ce6-fb26-49f7-9438-10d5f013b00e",
   "metadata": {},
   "outputs": [],
   "source": [
    "# Display the image\n",
    "plt.imshow(img)\n",
    "plt.show()"
   ]
  },
  {
   "cell_type": "markdown",
   "id": "8fc444b3-090e-451a-846a-7147efaaa033",
   "metadata": {},
   "source": [
    "https://stackoverflow.com/questions/14556545/why-opencv-using-bgr-colour-space-instead-of-rgb"
   ]
  },
  {
   "cell_type": "code",
   "execution_count": null,
   "id": "d94b4019-1575-46aa-a65a-d23a497d417f",
   "metadata": {},
   "outputs": [],
   "source": [
    "# Convert from BGR to RGB for proper color display\n",
    "img_rgb = cv2.cvtColor(img, cv2.COLOR_BGR2RGB)"
   ]
  },
  {
   "cell_type": "code",
   "execution_count": null,
   "id": "19826d01-c7fe-42c0-9609-824d8f3aa90f",
   "metadata": {},
   "outputs": [],
   "source": [
    "# Display the image\n",
    "plt.imshow(img_rgb)\n",
    "plt.show()"
   ]
  },
  {
   "cell_type": "code",
   "execution_count": null,
   "id": "a482e328-556b-4644-9a2b-a1dbe49ee980",
   "metadata": {},
   "outputs": [],
   "source": [
    "img_rgb.shape"
   ]
  },
  {
   "cell_type": "code",
   "execution_count": null,
   "id": "58117ae8-e17a-42c4-a25d-8c03c09e3ca0",
   "metadata": {},
   "outputs": [],
   "source": [
    "type(img_rgb)"
   ]
  },
  {
   "cell_type": "code",
   "execution_count": null,
   "id": "4e33dda6-f5d7-4f6f-a9ff-cc7a39c9b77e",
   "metadata": {},
   "outputs": [],
   "source": [
    "img_rgb[:,:,0]"
   ]
  },
  {
   "cell_type": "code",
   "execution_count": null,
   "id": "66f28cc2-a62c-4dd0-b729-b2dbb5401b29",
   "metadata": {},
   "outputs": [],
   "source": [
    "img_rgb[:,:,2].min()"
   ]
  },
  {
   "cell_type": "code",
   "execution_count": null,
   "id": "30842e88-3c2f-4434-a766-5258ce5e6550",
   "metadata": {},
   "outputs": [],
   "source": [
    "img_rgb[:,:,1]"
   ]
  },
  {
   "cell_type": "code",
   "execution_count": null,
   "id": "0f9ec3e1-886d-44e5-9e5e-f316d616cea0",
   "metadata": {},
   "outputs": [],
   "source": [
    "img_rgb[:,:,0]"
   ]
  },
  {
   "cell_type": "markdown",
   "id": "f56ce56f-c63a-4b14-b406-1eace695a597",
   "metadata": {},
   "source": [
    "Convert to grayscale"
   ]
  },
  {
   "cell_type": "code",
   "execution_count": null,
   "id": "a1ae2ba0-f227-40fb-8e18-9392534e2903",
   "metadata": {},
   "outputs": [],
   "source": [
    "gray = cv2.cvtColor(img, cv2.COLOR_BGR2GRAY)"
   ]
  },
  {
   "cell_type": "code",
   "execution_count": null,
   "id": "40ec670b-65e2-4a91-b985-286a24eeadc6",
   "metadata": {},
   "outputs": [],
   "source": [
    "gray.shape"
   ]
  },
  {
   "cell_type": "code",
   "execution_count": null,
   "id": "a831da93-4068-4262-aef9-cf6ce3237419",
   "metadata": {},
   "outputs": [],
   "source": [
    "# Display the image\n",
    "plt.imshow(gray)\n",
    "plt.show()"
   ]
  },
  {
   "cell_type": "code",
   "execution_count": null,
   "id": "a1974829-9eba-4f01-bf2d-d148abf438fe",
   "metadata": {},
   "outputs": [],
   "source": [
    "plt.imshow(gray, cmap='gray')  # Specify the color map as 'gray'\n",
    "plt.show()"
   ]
  },
  {
   "cell_type": "code",
   "execution_count": null,
   "id": "a86091b9-872c-4032-be30-b1c79d94cd7c",
   "metadata": {},
   "outputs": [],
   "source": [
    "gray.shape"
   ]
  },
  {
   "cell_type": "code",
   "execution_count": null,
   "id": "bea70f16-3a78-4158-bd7f-14ae91a2b6a8",
   "metadata": {},
   "outputs": [],
   "source": [
    "type(gray)"
   ]
  },
  {
   "cell_type": "code",
   "execution_count": null,
   "id": "5815db32-eb81-469c-b795-464abf311a17",
   "metadata": {},
   "outputs": [],
   "source": [
    "# Display the image\n",
    "plt.imshow(img_rgb[:,:,0],cmap='gray')\n",
    "plt.show()"
   ]
  },
  {
   "cell_type": "code",
   "execution_count": null,
   "id": "59bf931c-baa2-455f-8280-89048d0a577c",
   "metadata": {},
   "outputs": [],
   "source": [
    "# Display the image\n",
    "plt.imshow(img_rgb[:,:,1],cmap='gray')\n",
    "plt.show()"
   ]
  },
  {
   "cell_type": "code",
   "execution_count": null,
   "id": "ba3421b8-a3e1-4657-95aa-8ca772ba3418",
   "metadata": {},
   "outputs": [],
   "source": [
    "# Display the image\n",
    "plt.imshow(img_rgb[:,:,2],cmap='gray')\n",
    "plt.show()"
   ]
  },
  {
   "cell_type": "code",
   "execution_count": null,
   "id": "e1c16a4e-c7a6-4012-bd82-358cedd1b7bf",
   "metadata": {},
   "outputs": [],
   "source": [
    "# Create a figure\n",
    "fig = plt.figure(figsize=(8, 6))  # Specify figure size in inches\n",
    "# Add a single subplot to the figure\n",
    "ax = fig.add_subplot(111)  # (1 row, 1 column, 1st subplot)\n",
    "# Display the image\n",
    "ax.imshow(img_rgb)\n",
    "ax.axis('off')  # Turn off axis labels and ticks\n",
    "ax.set_title(\"Image Display\")  # Set a title for the subplot\n",
    "# Show the figure\n",
    "plt.show()"
   ]
  },
  {
   "cell_type": "code",
   "execution_count": null,
   "id": "351fe688-741e-422e-b146-0de30639b27d",
   "metadata": {},
   "outputs": [],
   "source": [
    "img_rgb.shape"
   ]
  },
  {
   "cell_type": "markdown",
   "id": "cae60b11-79e2-497a-8426-524db2ca68ca",
   "metadata": {},
   "source": [
    "Resize the image"
   ]
  },
  {
   "cell_type": "code",
   "execution_count": null,
   "id": "9c4117ce-da21-493e-9159-46fbf28ae9b4",
   "metadata": {},
   "outputs": [],
   "source": [
    "resized = cv2.resize(img_rgb, (300, 300))"
   ]
  },
  {
   "cell_type": "code",
   "execution_count": null,
   "id": "e00b0e63-a23c-49ba-8ee1-3c6cfead9490",
   "metadata": {},
   "outputs": [],
   "source": [
    "resized.shape"
   ]
  },
  {
   "cell_type": "code",
   "execution_count": null,
   "id": "e63344dc-4411-4688-90e9-b8ecb7d2c0a2",
   "metadata": {},
   "outputs": [],
   "source": [
    "# Display the image\n",
    "plt.imshow(resized)\n",
    "plt.show()"
   ]
  },
  {
   "cell_type": "code",
   "execution_count": null,
   "id": "cf04e447-f4ee-493a-a950-0c8b875494a3",
   "metadata": {},
   "outputs": [],
   "source": [
    "# Create a figure\n",
    "fig = plt.figure(figsize=(8, 6))  # Specify figure size in inches\n",
    "# Add a single subplot to the figure\n",
    "ax = fig.add_subplot(111)  # (1 row, 1 column, 1st subplot)\n",
    "# Display the image\n",
    "ax.imshow(resized)\n",
    "ax.axis('off')  # Turn off axis labels and ticks\n",
    "ax.set_title(\"Image Display\")  # Set a title for the subplot\n",
    "# Show the figure\n",
    "plt.show()"
   ]
  },
  {
   "cell_type": "markdown",
   "id": "99b548c1-d461-4759-944d-e04bfe778126",
   "metadata": {},
   "source": [
    "Add shapes on the image"
   ]
  },
  {
   "cell_type": "code",
   "execution_count": null,
   "id": "ac09679e-067d-4766-b44b-9350edfcf835",
   "metadata": {},
   "outputs": [],
   "source": [
    "cv2.line(img_rgb, (50, 50), (200, 50), (255, 0, 0), 5)\n",
    "plt.imshow(img_rgb)\n",
    "plt.show()\n"
   ]
  },
  {
   "cell_type": "code",
   "execution_count": null,
   "id": "08525781-1053-4b9c-9e0c-eb857b5165bc",
   "metadata": {},
   "outputs": [],
   "source": [
    "cv2.line(img_rgb, (50, 50), (200, 50), (255, 0, 0), 5)\n",
    "cv2.rectangle(img_rgb, (60, 60), (160, 160), (0, 255, 0), 3)\n",
    "cv2.circle(img_rgb, (120, 120), 40, (0, 0, 255))\n",
    "plt.imshow(img_rgb)\n",
    "plt.show()"
   ]
  },
  {
   "cell_type": "code",
   "execution_count": null,
   "id": "0ae281a1-581b-4546-844e-d89debdfacdc",
   "metadata": {},
   "outputs": [],
   "source": [
    "img = cv2.imread('dog.jpg')"
   ]
  },
  {
   "cell_type": "code",
   "execution_count": null,
   "id": "80bf8809-1227-4a93-ae72-c922fc552a2b",
   "metadata": {},
   "outputs": [],
   "source": [
    "# Convert from BGR to RGB for proper color display\n",
    "img_rgb = cv2.cvtColor(img, cv2.COLOR_BGR2RGB)"
   ]
  },
  {
   "cell_type": "code",
   "execution_count": null,
   "id": "badc5d0f-413a-4865-9a63-6435cce49406",
   "metadata": {},
   "outputs": [],
   "source": [
    "plt.imshow(img_rgb)\n",
    "plt.show()\n"
   ]
  },
  {
   "cell_type": "code",
   "execution_count": null,
   "id": "f8bd256f-12b2-433e-80de-9f499b31338c",
   "metadata": {},
   "outputs": [],
   "source": [
    "# Apply Gaussian Blur\n",
    "gaussian_blur = cv2.GaussianBlur(img_rgb, (15, 15), 0)\n"
   ]
  },
  {
   "cell_type": "code",
   "execution_count": null,
   "id": "bba29487-6e6d-4ea5-98d3-a8ca8596211a",
   "metadata": {},
   "outputs": [],
   "source": [
    "plt.imshow(gaussian_blur)\n",
    "plt.show()\n"
   ]
  },
  {
   "cell_type": "code",
   "execution_count": null,
   "id": "f9b3e977-00dc-4eb5-b7ca-814c6c71003e",
   "metadata": {},
   "outputs": [],
   "source": [
    "# Apply Gaussian Blur\n",
    "gaussian_blur = cv2.GaussianBlur(img_rgb, (3, 3), 0)\n",
    "plt.imshow(gaussian_blur)\n",
    "plt.show()\n"
   ]
  },
  {
   "cell_type": "code",
   "execution_count": null,
   "id": "90dc2f42-66ae-4d2e-b760-953ff3dcafc5",
   "metadata": {},
   "outputs": [],
   "source": [
    "# Apply Sharpening Filter\n",
    "kernel_sharpening = np.array([[0, -1, 0],\n",
    "                              [-1, 5, -1],\n",
    "                              [0, -1, 0]])\n",
    "sharpened = cv2.filter2D(img_rgb, -1, kernel_sharpening)"
   ]
  },
  {
   "cell_type": "code",
   "execution_count": null,
   "id": "95c50713-1469-4760-90d9-07f288ad2f85",
   "metadata": {},
   "outputs": [],
   "source": [
    "plt.imshow(sharpened)\n",
    "plt.show()"
   ]
  },
  {
   "cell_type": "code",
   "execution_count": null,
   "id": "2eed3b6f-c861-4341-8a79-5ab069bc6705",
   "metadata": {},
   "outputs": [],
   "source": [
    "# Create a Contrast Filter\n",
    "alpha = 1.5  # Contrast control (1.0-3.0) - increase for higher contrast\n",
    "beta = 0     # Brightness control (0-100) - adjust if needed\n",
    "\n",
    "# Apply Contrast Filter\n",
    "contrast_enhanced = cv2.convertScaleAbs(img_rgb, alpha=alpha, beta=beta)"
   ]
  },
  {
   "cell_type": "code",
   "execution_count": null,
   "id": "3b62fc01-6a92-46cb-af64-74f67d7fdefd",
   "metadata": {},
   "outputs": [],
   "source": [
    "plt.imshow(contrast_enhanced)\n",
    "plt.show()"
   ]
  },
  {
   "cell_type": "code",
   "execution_count": null,
   "id": "b002dc81-7976-46af-8fa8-00250b50f86a",
   "metadata": {},
   "outputs": [],
   "source": [
    "gray = cv2.cvtColor(img, cv2.COLOR_BGR2GRAY)"
   ]
  },
  {
   "cell_type": "code",
   "execution_count": null,
   "id": "fe09030c-adeb-4af2-a2db-e898b8c454c7",
   "metadata": {},
   "outputs": [],
   "source": [
    "plt.imshow(gray,cmap='gray')\n",
    "plt.show()"
   ]
  },
  {
   "cell_type": "code",
   "execution_count": null,
   "id": "11d40365-356f-4b9b-80a7-c0d260211b64",
   "metadata": {},
   "outputs": [],
   "source": [
    "# Apply Histogram Equalization\n",
    "equalized_image = cv2.equalizeHist(gray)"
   ]
  },
  {
   "cell_type": "code",
   "execution_count": null,
   "id": "1a69ac03-d2cc-47e5-b992-77466e8395ee",
   "metadata": {},
   "outputs": [],
   "source": [
    "plt.imshow(equalized_image,cmap='gray')\n",
    "plt.show()"
   ]
  },
  {
   "cell_type": "code",
   "execution_count": null,
   "id": "016de27c-1dc6-498e-9887-f1a5aa4bfe4c",
   "metadata": {},
   "outputs": [],
   "source": [
    "# Apply a Box Filter\n",
    "kernel_size = (5, 5)  # Define the kernel size (width, height)\n",
    "box_filtered = cv2.blur(img_rgb, kernel_size)"
   ]
  },
  {
   "cell_type": "code",
   "execution_count": null,
   "id": "5462224a-4fe7-4e41-b0c8-67a7d6bd74b3",
   "metadata": {},
   "outputs": [],
   "source": [
    "plt.imshow(box_filtered)\n",
    "plt.show()"
   ]
  },
  {
   "cell_type": "code",
   "execution_count": null,
   "id": "3059be68-3a33-4691-8c7a-240cd51f25d1",
   "metadata": {},
   "outputs": [],
   "source": []
  }
 ],
 "metadata": {
  "kernelspec": {
   "display_name": "Python 3 (ipykernel)",
   "language": "python",
   "name": "python3"
  },
  "language_info": {
   "codemirror_mode": {
    "name": "ipython",
    "version": 3
   },
   "file_extension": ".py",
   "mimetype": "text/x-python",
   "name": "python",
   "nbconvert_exporter": "python",
   "pygments_lexer": "ipython3",
   "version": "3.11.11"
  }
 },
 "nbformat": 4,
 "nbformat_minor": 5
}
